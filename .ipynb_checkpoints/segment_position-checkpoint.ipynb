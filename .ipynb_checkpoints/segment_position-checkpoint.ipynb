{
 "cells": [
  {
   "cell_type": "code",
   "execution_count": null,
   "metadata": {},
   "outputs": [],
   "source": [
    "import moviepy.editor as mpy\n",
    "import gizeh as gz\n",
    "\n",
    "# Logo de StackBuilders como instancia de Moviepy\n",
    "sb_logo = mpy.ImageClip('SB_logo.jpg')\n",
    "(logo_size_x, logo_size_y) = sb_logo.size\n",
    "\n",
    "sb_logo = sb_logo.set_position((320 - logo_size_x/2, 0))\n",
    "    \n",
    "# Texto creado con Gizeh y convertido en instancia de Moviepy\n",
    "surface = gz.Surface(width=500, height=70, bg_color=(1, 1, 1))\n",
    "text_clip = gz.text(\"Let's Build Together!\", \n",
    "                    fontfamily=\"Arial\", fontsize=35, \n",
    "                    xy=(250, 35), fill=(59/255, 89/255, 152/255))\n",
    "text_clip.draw(surface)\n",
    "text_instance = mpy.ImageClip(surface.get_npimage())\n",
    "(text_size_x, text_size_y) = text_instance.size\n",
    "text_instance = text_instance.set_position((320 - text_size_x/2, logo_size_y))\n",
    "\n",
    "# Stack Builders logo + text\n",
    "logo_text = mpy.CompositeVideoClip([sb_logo, text_instance], size=(640, 640)).set_duration(3).set_fps(10).on_color(color=(255, 255, 255))\n",
    "logo_text.ipython_display()"
   ]
  },
  {
   "cell_type": "code",
   "execution_count": null,
   "metadata": {
    "scrolled": true
   },
   "outputs": [],
   "source": []
  }
 ],
 "metadata": {
  "kernelspec": {
   "display_name": "Python 3",
   "language": "python",
   "name": "python3"
  },
  "language_info": {
   "codemirror_mode": {
    "name": "ipython",
    "version": 3
   },
   "file_extension": ".py",
   "mimetype": "text/x-python",
   "name": "python",
   "nbconvert_exporter": "python",
   "pygments_lexer": "ipython3",
   "version": "3.6.5"
  }
 },
 "nbformat": 4,
 "nbformat_minor": 2
}
