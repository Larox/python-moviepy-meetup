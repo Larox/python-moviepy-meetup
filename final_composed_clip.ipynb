{
 "cells": [
  {
   "cell_type": "code",
   "execution_count": null,
   "metadata": {
    "scrolled": false
   },
   "outputs": [],
   "source": [
    "import moviepy.editor as mpy\n",
    "import moviepy.video.fx.all as vfx\n",
    "import gizeh as gz\n",
    "\n",
    "\n",
    "# Logo de StackBuilders como instancia de Moviepy\n",
    "sb_logo = mpy.ImageClip('SB_logo.jpg')\n",
    "(logo_size_x, logo_size_y) = sb_logo.size\n",
    "\n",
    "sb_logo = sb_logo.set_position((320 - logo_size_x/2, 0))\n",
    "\n",
    "\n",
    "# Texto creado con Gizeh y convertido en instancia de Moviepy\n",
    "surface = gz.Surface(width=500, height=70, bg_color=(1, 1, 1))\n",
    "text_clip = gz.text(\"Let's Build Together!\",\n",
    "                    fontfamily=\"Arial\", fontsize=35,\n",
    "                    xy=(250, 35), fill=(59/255, 89/255, 152/255))\n",
    "text_clip.draw(surface)\n",
    "text_instance = mpy.ImageClip(surface.get_npimage())\n",
    "(text_size_x, text_size_y) = text_instance.size\n",
    "text_instance = text_instance.set_position((320 - text_size_x/2, logo_size_y))\n",
    "\n",
    "\n",
    "# Fade in Stack Builders Logo\n",
    "sb_logo = vfx.fadein(sb_logo, 1, initial_color=(255, 255, 255))\n",
    "\n",
    "\n",
    "# Fade in text\n",
    "text_instance = vfx.fadein(text_instance.set_start(\n",
    "    1.5), 1, initial_color=(255, 255, 255))\n",
    "\n",
    "\n",
    "# Linea dibujada con Gizeh\n",
    "linea_pos_y = logo_size_y + text_size_y\n",
    "\n",
    "surface_linea = gz.Surface(width=640, height=25, bg_color=(1, 1, 1))\n",
    "linea_azul = gz.polyline(\n",
    "    points=[(-320, 50), (320, 50)], stroke_width=80,\n",
    "    stroke=(59/255, 89/255, 152/255),\n",
    "    xy=(320, 0))\n",
    "linea_azul.draw(surface_linea)\n",
    "linea_instancia = mpy.ImageClip(surface_linea.get_npimage()).set_position(\n",
    "    (0, logo_size_y + text_size_y))\n",
    "\n",
    "linea_instancia = vfx.fadein(linea_instancia, 1, initial_color=(255, 255, 255))\n",
    "\n",
    "\n",
    "# Stack Builders logo + text + linea azul\n",
    "logo_text = mpy.CompositeVideoClip(\n",
    "    [sb_logo, text_instance, linea_instancia],\n",
    "    size=(640, 640)).\\\n",
    "    set_duration(3).\\\n",
    "    set_fps(20).\\\n",
    "    on_color(color=(255, 255, 255))\n",
    "logo_text.ipython_display()"
   ]
  },
  {
   "cell_type": "code",
   "execution_count": null,
   "metadata": {},
   "outputs": [],
   "source": []
  }
 ],
 "metadata": {
  "kernelspec": {
   "display_name": "Python 3",
   "language": "python",
   "name": "python3"
  },
  "language_info": {
   "codemirror_mode": {
    "name": "ipython",
    "version": 3
   },
   "file_extension": ".py",
   "mimetype": "text/x-python",
   "name": "python",
   "nbconvert_exporter": "python",
   "pygments_lexer": "ipython3",
   "version": "3.7.0"
  }
 },
 "nbformat": 4,
 "nbformat_minor": 2
}
