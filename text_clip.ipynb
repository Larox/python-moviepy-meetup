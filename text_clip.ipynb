{
 "cells": [
  {
   "cell_type": "code",
   "execution_count": null,
   "metadata": {},
   "outputs": [],
   "source": [
    "import moviepy.editor as mpy\n",
    "import gizeh as gz\n",
    "\n",
    "surface = gz.Surface(width=500, height=70, bg_color=(1, 1, 1))\n",
    "text_clip = gz.text(\"Let's Build Together!\", \n",
    "                    fontfamily=\"Arial\", fontsize=35, \n",
    "                    xy=(250, 35), fill=(59/255, 89/255, 152/255))\n",
    "text_clip.draw(surface)\n",
    "text_instance = mpy.ImageClip(surface.get_npimage())\n",
    "text_instance.ipython_display()"
   ]
  },
  {
   "cell_type": "code",
   "execution_count": null,
   "metadata": {},
   "outputs": [],
   "source": []
  }
 ],
 "metadata": {
  "kernelspec": {
   "display_name": "Python 3",
   "language": "python",
   "name": "python3"
  },
  "language_info": {
   "codemirror_mode": {
    "name": "ipython",
    "version": 3
   },
   "file_extension": ".py",
   "mimetype": "text/x-python",
   "name": "python",
   "nbconvert_exporter": "python",
   "pygments_lexer": "ipython3",
   "version": "3.7.0"
  }
 },
 "nbformat": 4,
 "nbformat_minor": 2
}
