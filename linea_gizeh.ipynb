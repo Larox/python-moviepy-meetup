{
 "cells": [
  {
   "cell_type": "code",
   "execution_count": null,
   "metadata": {},
   "outputs": [],
   "source": [
    "import gizeh as gz\n",
    "import moviepy.editor as mpy\n",
    "\n",
    "\n",
    "# Linea dibujada con Gizeh\n",
    "surface_linea = gz.Surface(width=640, height=25, bg_color=(1, 1, 1))\n",
    "linea_azul = gz.polyline(\n",
    "    points=[(-320, 50), (320, 50)],\n",
    "    stroke_width=80,\n",
    "    stroke=(59/255, 89/255, 152/255),\n",
    "    xy=(320, 0))\n",
    "linea_azul.draw(surface_linea)\n",
    "linea_instancia = mpy.ImageClip(surface_linea.get_npimage())\n",
    "linea_instancia.ipython_display()\n"
   ]
  },
  {
   "cell_type": "code",
   "execution_count": null,
   "metadata": {},
   "outputs": [],
   "source": []
  }
 ],
 "metadata": {
  "kernelspec": {
   "display_name": "Python 3",
   "language": "python",
   "name": "python3"
  },
  "language_info": {
   "codemirror_mode": {
    "name": "ipython",
    "version": 3
   },
   "file_extension": ".py",
   "mimetype": "text/x-python",
   "name": "python",
   "nbconvert_exporter": "python",
   "pygments_lexer": "ipython3",
   "version": "3.7.0"
  }
 },
 "nbformat": 4,
 "nbformat_minor": 2
}
